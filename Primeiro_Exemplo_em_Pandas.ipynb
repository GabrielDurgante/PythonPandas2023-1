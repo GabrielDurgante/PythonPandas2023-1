{
  "nbformat": 4,
  "nbformat_minor": 0,
  "metadata": {
    "colab": {
      "provenance": [],
      "authorship_tag": "ABX9TyOhUU6iUl1XQKzH0xy3nrBL",
      "include_colab_link": true
    },
    "kernelspec": {
      "name": "python3",
      "display_name": "Python 3"
    },
    "language_info": {
      "name": "python"
    }
  },
  "cells": [
    {
      "cell_type": "markdown",
      "metadata": {
        "id": "view-in-github",
        "colab_type": "text"
      },
      "source": [
        "<a href=\"https://colab.research.google.com/github/GabrielDurgante/PythonPandas2023-1/blob/main/Primeiro_Exemplo_em_Pandas.ipynb\" target=\"_parent\"><img src=\"https://colab.research.google.com/assets/colab-badge.svg\" alt=\"Open In Colab\"/></a>"
      ]
    },
    {
      "cell_type": "markdown",
      "source": [
        "**Primeiro Exemplo de manipulação de dados usando Python Pandas**\n",
        "\n",
        "Autor: Eu e Poyatos\n",
        "\n",
        "Data: 6 de fevereiro de 2023"
      ],
      "metadata": {
        "id": "oHDv_JYwUdMJ"
      }
    },
    {
      "cell_type": "code",
      "source": [
        "!pip install pandas"
      ],
      "metadata": {
        "id": "p4H9-Fr68A1U"
      },
      "execution_count": null,
      "outputs": []
    },
    {
      "cell_type": "code",
      "execution_count": 4,
      "metadata": {
        "id": "bGILwLGvC1qR"
      },
      "outputs": [],
      "source": [
        "# Importando biblioteca pandas no Python\n",
        "import pandas as pd\n",
        "\n",
        "combustiveis_df = pd.read_excel(\"ca-2021-02.xlsx\")"
      ]
    },
    {
      "cell_type": "code",
      "source": [
        "# print para ver dataframe!\n",
        "print(combustiveis_df)"
      ],
      "metadata": {
        "id": "UKyuiggTA82G"
      },
      "execution_count": null,
      "outputs": []
    },
    {
      "cell_type": "code",
      "source": [
        "# display pra mostrar a tabela bonitinho\n",
        "display(combustiveis_df)"
      ],
      "metadata": {
        "id": "10deZxRvCSR4"
      },
      "execution_count": null,
      "outputs": []
    },
    {
      "cell_type": "code",
      "source": [
        "#exibe as primeiras 5 linhas \n",
        "display(combustiveis_df.head(5))"
      ],
      "metadata": {
        "id": "BXYHMn9nFCdc"
      },
      "execution_count": null,
      "outputs": []
    },
    {
      "cell_type": "code",
      "source": [
        "# comandos Dataframe.shape() e Dataframe.desctibe()\n",
        "print(combustiveis_df.shape)\n",
        "#numero de linhas e colunas\n",
        "\n",
        "#so as linhas \n",
        "print(combustiveis_df.shape[0])"
      ],
      "metadata": {
        "id": "ymKFB5HAH0dI"
      },
      "execution_count": null,
      "outputs": []
    },
    {
      "cell_type": "code",
      "source": [
        "#describe() mostra estatisticas mais basicas\n",
        "print(combustiveis_df.describe())"
      ],
      "metadata": {
        "id": "XUW5hwmoKAlF"
      },
      "execution_count": null,
      "outputs": []
    },
    {
      "cell_type": "code",
      "source": [
        "#quais são as colunas e tipos de dados\n",
        "print(combustiveis_df.info())"
      ],
      "metadata": {
        "id": "4Bmr57gDL7FC"
      },
      "execution_count": null,
      "outputs": []
    },
    {
      "cell_type": "code",
      "source": [
        "#filtrar apenas por uma coluna \n",
        "display(combustiveis_df['Bairro'])"
      ],
      "metadata": {
        "id": "cmy1yThmNuDu"
      },
      "execution_count": null,
      "outputs": []
    },
    {
      "cell_type": "code",
      "source": [
        "#criamos um novo dataframe apenas com as colunas que eu quero\n",
        "ca_df = combustiveis_df[['Revenda', 'Municipio', 'Produto', 'Valor de Venda']]\n",
        "display(ca_df)"
      ],
      "metadata": {
        "id": "tpJQ8VChZse5"
      },
      "execution_count": null,
      "outputs": []
    },
    {
      "cell_type": "code",
      "source": [
        "#exibe a 4a. linha\n",
        "display(ca_df.loc[9:19])"
      ],
      "metadata": {
        "id": "ZB4NrBr4b46c"
      },
      "execution_count": null,
      "outputs": []
    },
    {
      "cell_type": "code",
      "source": [
        "#criar um dataframe gas_df contendo \n",
        "#apenas as 4 colunas (revenda, municipio, produto, Valor de Venda)\n",
        "#somente com combustivel sendo GASOLINA e exibir na tela \n",
        "gas_df = ca_df.loc[ca_df['Produto'] == 'GASOLINA']\n",
        "display(gas_df)\n",
        "\n",
        "display(gas_df['Valor de Venda'].max())"
      ],
      "metadata": {
        "id": "yfH_YQ3We0sS"
      },
      "execution_count": null,
      "outputs": []
    },
    {
      "cell_type": "code",
      "source": [
        "#se eu quiser saber qual é o posto e o municipio da gasolina mais cara do pais?\n",
        "display(gas_df[['Revenda', 'Municipio', 'Valor de Venda']].max())"
      ],
      "metadata": {
        "colab": {
          "base_uri": "https://localhost:8080/",
          "height": 86
        },
        "id": "VCDowKcthQHn",
        "outputId": "9b9ecb5c-fddb-4819-ae0a-05f553d7dd2e"
      },
      "execution_count": 34,
      "outputs": [
        {
          "output_type": "display_data",
          "data": {
            "text/plain": [
              "Revenda           ZV POSTO DE SERVIÇO LTDA.\n",
              "Municipio                           XANXERE\n",
              "Valor de Venda                        7.999\n",
              "dtype: object"
            ]
          },
          "metadata": {}
        }
      ]
    }
  ]
}